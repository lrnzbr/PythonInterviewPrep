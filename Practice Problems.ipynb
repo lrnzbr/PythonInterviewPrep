{
 "cells": [
  {
   "cell_type": "markdown",
   "metadata": {},
   "source": [
    "# Practice Problems"
   ]
  },
  {
   "cell_type": "markdown",
   "metadata": {},
   "source": [
    "Asteroid Collision:  leetcode.com/problems/asteroid-collision"
   ]
  },
  {
   "cell_type": "code",
   "execution_count": 27,
   "metadata": {},
   "outputs": [],
   "source": [
    "asteroids = [-2, 5, 10, -3, 5]\n",
    "\n",
    "def willCollide(a,indexA,b,indexB):\n",
    "    if a < 0 and b > 0 and indexA < indexB:\n",
    "        return False\n",
    "    if a > 0 and b < 0 and indexA > indexB:\n",
    "        return False\n",
    "    else:\n",
    "        return True \n",
    "\n",
    "    \n",
    "def destroyedAsteroid(a,b):\n",
    "    return min(abs(a),abs(b))\n",
    "\n",
    "\n",
    "    \n",
    "def asteroidCollisionTest(asteroids):\n",
    "    for indexA, asteroidA in enumerate(asteroids):\n",
    "        for indexB, asteroidB in enumerate(asteroids):\n",
    "            if asteroidA == asteroidB:\n",
    "                continue\n",
    "            elif willCollide(asteroidA,indexA,asteroidB,indexB) :\n",
    "                destroyedAst = destroyedAsteroid(asteroidA,asteroidB)\n",
    "                if destroyedAst == asteroidA:\n",
    "                    del asteroids[indexA]\n",
    "                if destroyedAst == asteroidB:\n",
    "                    del asteroids[indexB]\n",
    "    return asteroids \n",
    "asteroidCollisionTest(asteroids)"
   ]
  },
  {
   "cell_type": "code",
   "execution_count": 28,
   "metadata": {},
   "outputs": [
    {
     "data": {
      "text/plain": [
       "[-2, 10, -3]"
      ]
     },
     "execution_count": 28,
     "metadata": {},
     "output_type": "execute_result"
    }
   ],
   "source": [
    "asteroidCollisionTest(asteroids)"
   ]
  },
  {
   "cell_type": "markdown",
   "metadata": {},
   "source": [
    "Runtime: O(n^2) "
   ]
  },
  {
   "cell_type": "markdown",
   "metadata": {},
   "source": [
    "How can we speed it up?  If an asteroid will collide, destroy all smaller asteroids in the path"
   ]
  },
  {
   "cell_type": "code",
   "execution_count": null,
   "metadata": {},
   "outputs": [],
   "source": [
    "def asteroidCollisionTest(asteroids):\n",
    "    for indexA, asteroidA in enumerate(asteroids):\n",
    "        for indexB, asteroidB in enumerate(asteroids):\n",
    "            if asteroidA == asteroidB:\n",
    "                continue\n",
    "            elif willCollide(asteroidA,indexA,asteroidB,indexB) :\n",
    "                destroyedAst = destroyedAsteroid(asteroidA,asteroidB)\n",
    "                if destroyedAst == asteroidA:\n",
    "                    del asteroids[indexA]\n",
    "                    \n",
    "                if destroyedAst == asteroidB:\n",
    "                    del asteroids[indexB]\n",
    "    return asteroids \n",
    "asteroidCollisionTest(asteroids)"
   ]
  }
 ],
 "metadata": {
  "kernelspec": {
   "display_name": "Python 3",
   "language": "python",
   "name": "python3"
  },
  "language_info": {
   "codemirror_mode": {
    "name": "ipython",
    "version": 3
   },
   "file_extension": ".py",
   "mimetype": "text/x-python",
   "name": "python",
   "nbconvert_exporter": "python",
   "pygments_lexer": "ipython3",
   "version": "3.7.4"
  }
 },
 "nbformat": 4,
 "nbformat_minor": 2
}
