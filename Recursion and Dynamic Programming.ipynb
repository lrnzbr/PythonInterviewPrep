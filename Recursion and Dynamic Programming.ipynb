{
 "cells": [
  {
   "cell_type": "markdown",
   "metadata": {},
   "source": [
    "Triple Step: A child is running up a staircase with n steps and can hop either 1 step, 2 steps, or 3\n",
    "steps at a time. Implement a method to count how many possible ways the child can run up the\n",
    "stairs."
   ]
  },
  {
   "cell_type": "code",
   "execution_count": null,
   "metadata": {},
   "outputs": [],
   "source": []
  },
  {
   "cell_type": "markdown",
   "metadata": {},
   "source": [
    "Robot in a Grid: Imagine a robot sitting on the upper left corner of grid with r rows and c columns.\n",
    "The robot can only move in two directions, right and down, but certain cells are \"off limits\" such that\n",
    "the robot cannot step on them. Design an algorithm to find a path for the robot from the top left to\n",
    "the bottom right."
   ]
  },
  {
   "cell_type": "code",
   "execution_count": null,
   "metadata": {},
   "outputs": [],
   "source": []
  },
  {
   "cell_type": "markdown",
   "metadata": {},
   "source": [
    "Magic Index: A magic index in an array A [e ... n -1] is defined to be an index such that A[ i] =\n",
    "i. Given a sorted array of distinct integers, write a method to find a magic index, if one exists, in\n",
    "array A.\n",
    "\n",
    "FOLLOW UP\n",
    "\n",
    "What if the values are not distinct?"
   ]
  },
  {
   "cell_type": "code",
   "execution_count": null,
   "metadata": {},
   "outputs": [],
   "source": []
  },
  {
   "cell_type": "markdown",
   "metadata": {},
   "source": [
    "Power Set: Write a method to return all subsets of a set."
   ]
  },
  {
   "cell_type": "code",
   "execution_count": null,
   "metadata": {},
   "outputs": [],
   "source": []
  },
  {
   "cell_type": "markdown",
   "metadata": {},
   "source": [
    "Recursive Multiply: Write a recursive function to multiply two positive integers without using the\n",
    "\"*\" operator. You can use addition, subtraction, and bit shifting, but you should minimize the number\n",
    "of those operations."
   ]
  },
  {
   "cell_type": "code",
   "execution_count": null,
   "metadata": {},
   "outputs": [],
   "source": []
  },
  {
   "cell_type": "markdown",
   "metadata": {},
   "source": [
    "Towers of Hanoi: In the classic problem of the Towers of Hanoi, you have 3 towers and N disks of\n",
    "different sizes which can slide onto any tower. The puzzle starts with disks sorted in ascending order\n",
    "of size from top to bottom (Le., each disk sits on top of an even larger one). You have the following\n",
    "constraints:\n",
    "\n",
    "(1) Only one disk can be moved at a time.\n",
    "\n",
    "(2) A disk is slid off the top of one tower onto another tower.\n",
    "\n",
    "(3) A disk cannot be placed on top of a smaller disk.\n",
    "\n",
    "Write a program to move the disks from the first tower to the last using stacks."
   ]
  },
  {
   "cell_type": "code",
   "execution_count": null,
   "metadata": {},
   "outputs": [],
   "source": []
  },
  {
   "cell_type": "markdown",
   "metadata": {},
   "source": [
    "Permutations without Dups: Write a method to compute all permutations of a string of unique\n",
    "characters."
   ]
  },
  {
   "cell_type": "code",
   "execution_count": null,
   "metadata": {},
   "outputs": [],
   "source": []
  },
  {
   "cell_type": "markdown",
   "metadata": {},
   "source": [
    "Permutations with Dups: Write a method to compute all permutations of a string whose characters\n",
    "are not necessarily unique. The list of permutations should not have duplicates."
   ]
  },
  {
   "cell_type": "code",
   "execution_count": null,
   "metadata": {},
   "outputs": [],
   "source": []
  },
  {
   "cell_type": "markdown",
   "metadata": {},
   "source": [
    "Parens: Implement an algorithm to print all valid (e.g., properly opened and closed) combinations\n",
    "of n pairs of parentheses.\n",
    "\n",
    "EXAMPLE\n",
    "\n",
    "Input: 3\n",
    "\n",
    "Output: ((())), (()()), (())(), ()(()), ()()()"
   ]
  },
  {
   "cell_type": "code",
   "execution_count": null,
   "metadata": {},
   "outputs": [],
   "source": []
  },
  {
   "cell_type": "markdown",
   "metadata": {},
   "source": [
    "Paint Fill: Implement the \"paint nil\" function that one might see on many image editing programs.\n",
    "That is, given a screen (represented by a two-dimensional array of colors), a point, and a new color,\n",
    "nil in the surrounding area until the color changes from the original color."
   ]
  },
  {
   "cell_type": "code",
   "execution_count": null,
   "metadata": {},
   "outputs": [],
   "source": []
  },
  {
   "cell_type": "markdown",
   "metadata": {},
   "source": [
    "Coins: Given an innnite number of quarters (25 cents), dimes (10 cents), nickels (5 cents), and\n",
    "pennies (1 cent), write code to calculate the number of ways of representing n cents."
   ]
  },
  {
   "cell_type": "code",
   "execution_count": null,
   "metadata": {},
   "outputs": [],
   "source": []
  },
  {
   "cell_type": "markdown",
   "metadata": {},
   "source": [
    "Eight Queens: Write an algorithm to print all ways of arranging eight queens on an 8x8 chess board\n",
    "so that none of them share the same row, column, or diagonal. In this case, \"diagonal\" means all\n",
    "diagonals, not just the two that bisect the board."
   ]
  },
  {
   "cell_type": "code",
   "execution_count": null,
   "metadata": {},
   "outputs": [],
   "source": []
  },
  {
   "cell_type": "markdown",
   "metadata": {},
   "source": [
    "Stack of Boxes: You have a stack of n boxes, with widths Wi ' heights hi ' and depths di . The boxes\n",
    "cannot be rotated and can only be stacked on top of one another if each box in the stack is strictly\n",
    "larger than the box above it in width, height, and depth. Implement a method to compute the\n",
    "height of the tallest possible stack. The height of a stack is the sum of the heights of each box."
   ]
  },
  {
   "cell_type": "code",
   "execution_count": null,
   "metadata": {},
   "outputs": [],
   "source": []
  },
  {
   "cell_type": "markdown",
   "metadata": {},
   "source": [
    "Boolean Evaluation: Given a boolean expression consisting of the symbols e (false), 1 (true), &\n",
    "(AND), I (OR), and\" (XOR), and a desired boolean result value result, implement a function to\n",
    "count the number of ways of parenthesizing the expression such that it evaluates to result.\n",
    "\n",
    "EXAMPLE\n",
    "\n",
    "countEval(\"1^0|0|1\" false) -> 2\n",
    "\n",
    "countEval(\"0&0&0&l\"|0\", true) -> 10"
   ]
  },
  {
   "cell_type": "code",
   "execution_count": null,
   "metadata": {},
   "outputs": [],
   "source": []
  }
 ],
 "metadata": {
  "kernelspec": {
   "display_name": "Python 3",
   "language": "python",
   "name": "python3"
  },
  "language_info": {
   "codemirror_mode": {
    "name": "ipython",
    "version": 3
   },
   "file_extension": ".py",
   "mimetype": "text/x-python",
   "name": "python",
   "nbconvert_exporter": "python",
   "pygments_lexer": "ipython3",
   "version": "3.7.4"
  }
 },
 "nbformat": 4,
 "nbformat_minor": 2
}
