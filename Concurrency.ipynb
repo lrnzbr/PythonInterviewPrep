{
 "cells": [
  {
   "cell_type": "code",
   "execution_count": 1,
   "metadata": {},
   "outputs": [
    {
     "name": "stdout",
     "output_type": "stream",
     "text": [
      "Hello World: <Thread(Thread-4, started 123145541332992)>\n"
     ]
    }
   ],
   "source": [
    "import threading\n",
    "\n",
    "# The simple function that will simply print hello world and\n",
    "# the thread that is executing this\n",
    "def myTask():\n",
    "    print(\"Hello World: {}\".format(threading.current_thread()))\n",
    "\n",
    "# We create our first thread and pass in our myTask function\n",
    "# as its target\n",
    "myFirstThread = threading.Thread(target=myTask)\n",
    "# We start out thread\n",
    "myFirstThread.start()"
   ]
  },
  {
   "cell_type": "code",
   "execution_count": null,
   "metadata": {},
   "outputs": [],
   "source": []
  }
 ],
 "metadata": {
  "kernelspec": {
   "display_name": "Python 3",
   "language": "python",
   "name": "python3"
  },
  "language_info": {
   "codemirror_mode": {
    "name": "ipython",
    "version": 3
   },
   "file_extension": ".py",
   "mimetype": "text/x-python",
   "name": "python",
   "nbconvert_exporter": "python",
   "pygments_lexer": "ipython3",
   "version": "3.7.6"
  }
 },
 "nbformat": 4,
 "nbformat_minor": 2
}
