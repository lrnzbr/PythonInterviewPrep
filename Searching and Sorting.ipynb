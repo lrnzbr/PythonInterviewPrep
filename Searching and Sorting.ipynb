{
 "cells": [
  {
   "cell_type": "markdown",
   "metadata": {},
   "source": [
    "Sorted Merge: You are given two sorted arrays, A and B, where A has a large enough buffer at the\n",
    "end to hold B. Write a method to merge B into A in sorted order."
   ]
  },
  {
   "cell_type": "markdown",
   "metadata": {},
   "source": [
    "Group Anagrams: Write a method to sort an array of strings so that all the anagrams are next to\n",
    "each other."
   ]
  },
  {
   "cell_type": "markdown",
   "metadata": {},
   "source": [
    "Search in Rotated Array: Given a sorted array of n integers that has been rotated an unknown\n",
    "number of times, write code to find an element in the array. You may assume that the array was\n",
    "originally sorted in increasing order.\n",
    "\n",
    "EXAMPLE\n",
    "\n",
    "Input: find 5 in {15, 16, 19, 20, 25, 1, 3,4,5,7, l0, 14}\n",
    "\n",
    "Output: 8 (the index of 5 in the array)"
   ]
  },
  {
   "cell_type": "markdown",
   "metadata": {},
   "source": [
    "Sorted Search, No Size: You are given an array-like data structure Listy which lacks a size\n",
    "method. It does, however, have an elementAt (i) method that returns the element at index i in\n",
    "0(1) time. If i is beyond the bounds of the data structure, it returns -1. (For this reason, the data\n",
    "structure only supports positive integers.) Given a Listy which contains sorted, positive integers,\n",
    "find the index at which an element x occurs. If x occurs multiple times, you may return any index."
   ]
  },
  {
   "cell_type": "markdown",
   "metadata": {},
   "source": [
    "Sparse Search: Given a sorted array of strings that is interspersed with empty strings, write a\n",
    "method to find the location of a given string.\n",
    "EXAMPLE\n",
    "Input: ball, {((at\",\n",
    "((JJ}\n",
    "Output: 4"
   ]
  },
  {
   "cell_type": "markdown",
   "metadata": {},
   "source": [
    "Sort Big File: Imagine you have a 20 GB file with one string per line. Explain how you would sort\n",
    "the file."
   ]
  },
  {
   "cell_type": "markdown",
   "metadata": {},
   "source": [
    "Missing Int: Given an input file with four billion non-negative integers, provide an algorithm to\n",
    "generate an integer that is not contained in the file. Assume you have 1 GB of memory available for\n",
    "this task.\n",
    "FOLLOW UP\n",
    "What if you have only 10MB of memory? Assume that all the values are distinct and we now have\n",
    "no more than one billion non-negative integers."
   ]
  },
  {
   "cell_type": "code",
   "execution_count": null,
   "metadata": {},
   "outputs": [],
   "source": []
  }
 ],
 "metadata": {
  "kernelspec": {
   "display_name": "Python 3",
   "language": "python",
   "name": "python3"
  },
  "language_info": {
   "codemirror_mode": {
    "name": "ipython",
    "version": 3
   },
   "file_extension": ".py",
   "mimetype": "text/x-python",
   "name": "python",
   "nbconvert_exporter": "python",
   "pygments_lexer": "ipython3",
   "version": "3.7.4"
  }
 },
 "nbformat": 4,
 "nbformat_minor": 2
}
