{
 "cells": [
  {
   "cell_type": "code",
   "execution_count": null,
   "metadata": {},
   "outputs": [],
   "source": [
    "import threading\n",
    "\n",
    "# The simple function that will simply print hello world and\n",
    "# the thread that is executing this\n",
    "def myTask():\n",
    "    print(\"Hello World: {}\".format(threading.current_thread()))\n",
    "\n",
    "# We create our first thread and pass in our myTask function\n",
    "# as its target\n",
    "myFirstThread = threading.Thread(target=myTask)\n",
    "# We start out thread\n",
    "myFirstThread.start()"
   ]
  }
 ],
 "metadata": {
  "kernelspec": {
   "display_name": "Python 3",
   "language": "python",
   "name": "python3"
  },
  "language_info": {
   "codemirror_mode": {
    "name": "ipython",
    "version": 3
   },
   "file_extension": ".py",
   "mimetype": "text/x-python",
   "name": "python",
   "nbconvert_exporter": "python",
   "pygments_lexer": "ipython3",
   "version": "3.7.6"
  }
 },
 "nbformat": 4,
 "nbformat_minor": 2
}
