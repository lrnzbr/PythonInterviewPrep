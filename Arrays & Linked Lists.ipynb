{
 "cells": [
  {
   "cell_type": "markdown",
   "metadata": {},
   "source": [
    "# Arrays, Strings & Linked Lists"
   ]
  },
  {
   "cell_type": "markdown",
   "metadata": {},
   "source": [
    "Is Unique: Implement an algorithm to determine if a string has all unique characters. What if you\n",
    "cannot use additional data structures?"
   ]
  },
  {
   "cell_type": "code",
   "execution_count": null,
   "metadata": {},
   "outputs": [],
   "source": []
  },
  {
   "cell_type": "markdown",
   "metadata": {},
   "source": [
    "Check Permutation: Given two strings, write a method to decide if one is a permutation of the\n",
    "other."
   ]
  },
  {
   "cell_type": "code",
   "execution_count": null,
   "metadata": {},
   "outputs": [],
   "source": []
  },
  {
   "cell_type": "markdown",
   "metadata": {},
   "source": [
    "URLify: Write a method to replace all spaces in a string with '%20: You may assume that the string\n",
    "has sufficient space at the end to hold the additional characters, and that you are given the \"true\"\n",
    "length of the string. (Note: If implementing in Java, please use a character array so that you can\n",
    "perform this operation in place.)\n",
    "EXAMPLE\n",
    "Input: \"Mr John Smith \"J 13\n",
    "Output: \"Mr%20J ohn%20Smith\""
   ]
  },
  {
   "cell_type": "code",
   "execution_count": null,
   "metadata": {},
   "outputs": [],
   "source": []
  },
  {
   "cell_type": "markdown",
   "metadata": {},
   "source": [
    "Palindrome Permutation: Given a string, write a function to check if it is a permutation of a palindrome.\n",
    "A palindrome is a word or phrase that is the same forwards and backwards. A permutation\n",
    "is a rea rrangement of letters. The palindrome does not need to be limited to just dictionary words.\n",
    "EXAMPLE\n",
    "Input: Tact Coa\n",
    "Output: True (permutations: \"taco cat\". \"atco cta\". etc.)"
   ]
  },
  {
   "cell_type": "code",
   "execution_count": null,
   "metadata": {},
   "outputs": [],
   "source": []
  },
  {
   "cell_type": "markdown",
   "metadata": {},
   "source": [
    "One Away: There are three types of edits that can be performed on strings: insert a character,\n",
    "remove a character, or replace a character. Given two strings, write a function to check if they are\n",
    "one edit (or zero edits) away.\n",
    "\n",
    "EXAMPLE\n",
    "\n",
    "pale, pIe -> true\n",
    "\n",
    "pales. pale -> true\n",
    "\n",
    "pale. bale -> true\n",
    "\n",
    "pale. bake -> false\n"
   ]
  },
  {
   "cell_type": "code",
   "execution_count": null,
   "metadata": {},
   "outputs": [],
   "source": []
  },
  {
   "cell_type": "markdown",
   "metadata": {},
   "source": [
    "String Compression: Implement a method to perform basic string compression using the counts\n",
    "of repeated characters. For example, the string aabcccccaaa would become a2b1c5a3. If the\n",
    "\"compressed\" string would not become smaller than the original string, your method should return\n",
    "the original string. You can assume the string has only uppercase and lowercase letters (a - z)."
   ]
  },
  {
   "cell_type": "code",
   "execution_count": null,
   "metadata": {},
   "outputs": [],
   "source": []
  },
  {
   "cell_type": "markdown",
   "metadata": {},
   "source": [
    "Rotate Matrix: Given an image represented by an NxN matrix, where each pixel in the image is 4\n",
    "bytes, write a method to rotate the image by 90 degrees. (an you do this in place?"
   ]
  },
  {
   "cell_type": "code",
   "execution_count": null,
   "metadata": {},
   "outputs": [],
   "source": []
  },
  {
   "cell_type": "markdown",
   "metadata": {},
   "source": [
    "Zero Matrix: Write an algorithm such that if an element in an MxN matrix is 0, its entire row and\n",
    "column are set to O."
   ]
  },
  {
   "cell_type": "code",
   "execution_count": null,
   "metadata": {},
   "outputs": [],
   "source": []
  },
  {
   "cell_type": "markdown",
   "metadata": {},
   "source": [
    "String Rotation: Assume you have a method isSubst ring which checks if one word is a substring\n",
    "of another. Given two strings, 51 and 52, write code to check if 52 is a rotation of 51 using only one\n",
    "call to isSubstring (e.g., \"waterbottle\" is a rotation of\"erbottlewat\")."
   ]
  },
  {
   "cell_type": "code",
   "execution_count": null,
   "metadata": {},
   "outputs": [],
   "source": []
  },
  {
   "cell_type": "markdown",
   "metadata": {},
   "source": [
    "## Linked Lists"
   ]
  },
  {
   "cell_type": "markdown",
   "metadata": {},
   "source": [
    "Remove Dups: Write code to remove duplicates from an unsorted linked list.\n",
    "FOLLOW UP\n",
    "How would you solve this problem if a temporary buffer is not allowed?"
   ]
  },
  {
   "cell_type": "code",
   "execution_count": null,
   "metadata": {},
   "outputs": [],
   "source": []
  },
  {
   "cell_type": "markdown",
   "metadata": {},
   "source": [
    "Return Kth to Last: Implement an algorithm to find the kth to last element of a singly linked list."
   ]
  },
  {
   "cell_type": "code",
   "execution_count": null,
   "metadata": {},
   "outputs": [],
   "source": []
  },
  {
   "cell_type": "markdown",
   "metadata": {},
   "source": [
    "Delete Middle Node: Implement an algorithm to delete a node in the middle (i.e., any node but\n",
    "the first and last node, not necessarily the exact middle) of a singly linked list, given only access to\n",
    "that node.\n",
    "EXAMPLE\n",
    "Input: the node c from the linked list a - >b- >c - >d - >e- >f\n",
    "Result: nothing is returned, but the new linked list looks like a - >b- >d - >e- >f"
   ]
  },
  {
   "cell_type": "code",
   "execution_count": null,
   "metadata": {},
   "outputs": [],
   "source": []
  },
  {
   "cell_type": "markdown",
   "metadata": {},
   "source": [
    "Partition: Write code to partition a linked list around a value x, such that all nodes less than x come\n",
    "before all nodes greater than or equal to x. lf x is contained within the list, the values of x only need\n",
    "to be after the elements less than x (see below). The partition element x can appear anywhere in the\n",
    "\"right partition\"; it does not need to appear between the left and right partitions.\n",
    "\n",
    "EXAMPLE\n",
    "\n",
    "Input: 3 -> 5 -> 8 -> 5 -> 10 -> 2 -> 1 partition = 5\n",
    "\n",
    "Output: 3 -> 1 -> 2 -> 10 -> 5 -> 5 -> 8\n"
   ]
  },
  {
   "cell_type": "code",
   "execution_count": null,
   "metadata": {},
   "outputs": [],
   "source": []
  },
  {
   "cell_type": "markdown",
   "metadata": {},
   "source": [
    "Sum Lists: You have two numbers represented by a linked list, where each node contains a single\n",
    "digit. The digits are stored in reverse order, such that the 1 's digit is at the head of the list. Write a\n",
    "function that adds the two numbers and returns the sum as a linked list.\n",
    "\n",
    "EXAMPLE\n",
    "\n",
    "Input: (7-) 1 -) 6) + (5 -) 9 -) 2) .Thatis,617 + 295.\n",
    "\n",
    "Output: 2 -) 1 -) 9. That is, 912.\n",
    "\n",
    "FOLLOW UP\n",
    "Suppose the digits are stored in forward order. Repeat the above problem.\n",
    "\n",
    "EXAMPLE\n",
    "Input: (6 -) 1 -) 7) + (2 -) 9 -) 5).Thatis,617 + 295.\n",
    "Output: 9 -) 1 -) 2. That is, 912."
   ]
  },
  {
   "cell_type": "code",
   "execution_count": null,
   "metadata": {},
   "outputs": [],
   "source": []
  },
  {
   "cell_type": "markdown",
   "metadata": {},
   "source": [
    "Palindrome: Implement a function to check if a linked list is a palindrome."
   ]
  },
  {
   "cell_type": "code",
   "execution_count": null,
   "metadata": {},
   "outputs": [],
   "source": []
  },
  {
   "cell_type": "markdown",
   "metadata": {},
   "source": [
    "Intersection: Given two (singly) linked lists, determine if the two lists intersect. Return the intersecting\n",
    "node. Note that the intersection is defined based on reference, not value. That is, if the kth\n",
    "node of the first linked list is the exact same node (by reference) as the jth node of the second\n",
    "linked list, then they are intersecting."
   ]
  },
  {
   "cell_type": "code",
   "execution_count": null,
   "metadata": {},
   "outputs": [],
   "source": []
  },
  {
   "cell_type": "markdown",
   "metadata": {},
   "source": [
    "Loop Detection: Given a circular linked list, implement an algorithm that returns the node at the\n",
    "beginning of the loop.\n",
    "\n",
    "DEFINITION\n",
    "Circular linked list: A (corrupt) linked list in which a node's next pointer points to an earlier node, so\n",
    "as to make a loop in the linked list.\n",
    "\n",
    "EXAMPLE\n",
    "\n",
    "Input: A -) B -) C -) 0 -) E - ) C[thesameCasearlierl\n",
    "Output: C"
   ]
  },
  {
   "cell_type": "code",
   "execution_count": null,
   "metadata": {},
   "outputs": [],
   "source": []
  }
 ],
 "metadata": {
  "kernelspec": {
   "display_name": "Python 3",
   "language": "python",
   "name": "python3"
  },
  "language_info": {
   "codemirror_mode": {
    "name": "ipython",
    "version": 3
   },
   "file_extension": ".py",
   "mimetype": "text/x-python",
   "name": "python",
   "nbconvert_exporter": "python",
   "pygments_lexer": "ipython3",
   "version": "3.7.4"
  }
 },
 "nbformat": 4,
 "nbformat_minor": 2
}
